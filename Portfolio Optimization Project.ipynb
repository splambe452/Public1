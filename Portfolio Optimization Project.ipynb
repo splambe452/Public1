{
 "cells": [
  {
   "cell_type": "markdown",
   "metadata": {},
   "source": [
    "Portfolio Optimization Project \n"
   ]
  },
  {
   "cell_type": "markdown",
   "metadata": {},
   "source": [
    "Import libraries"
   ]
  },
  {
   "cell_type": "code",
   "execution_count": 67,
   "metadata": {},
   "outputs": [],
   "source": [
    "import pandas as pd\n",
    "import numpy as np\n",
    "import matplotlib.pyplot as plt\n",
    "from datetime import datetime, date, timedelta, timezone\n",
    "import yfinance as yf \n",
    "from scipy.optimize import minimize"
   ]
  },
  {
   "cell_type": "code",
   "execution_count": 68,
   "metadata": {},
   "outputs": [],
   "source": [
    "end_date = datetime.today()"
   ]
  },
  {
   "cell_type": "code",
   "execution_count": 69,
   "metadata": {},
   "outputs": [
    {
     "name": "stdout",
     "output_type": "stream",
     "text": [
      "2018-06-15 20:21:57.757714\n"
     ]
    }
   ],
   "source": [
    "start_date = end_date - timedelta(days = 7 * 365)\n",
    "print (start_date)"
   ]
  },
  {
   "cell_type": "code",
   "execution_count": 70,
   "metadata": {},
   "outputs": [],
   "source": [
    "adj_close_df = pd.DataFrame()"
   ]
  },
  {
   "cell_type": "code",
   "execution_count": 71,
   "metadata": {},
   "outputs": [
    {
     "name": "stderr",
     "output_type": "stream",
     "text": [
      "/var/folders/1r/jlk6s6nd0ss3h022myjjhb6w0000gn/T/ipykernel_56185/3388319966.py:4: FutureWarning: YF.download() has changed argument auto_adjust default to True\n",
      "  stock_data = yf.download(ticker,start=start_date, end=end_date)\n",
      "[*********************100%***********************]  1 of 1 completed\n",
      "/var/folders/1r/jlk6s6nd0ss3h022myjjhb6w0000gn/T/ipykernel_56185/3388319966.py:4: FutureWarning: YF.download() has changed argument auto_adjust default to True\n",
      "  stock_data = yf.download(ticker,start=start_date, end=end_date)\n",
      "[*********************100%***********************]  1 of 1 completed\n",
      "/var/folders/1r/jlk6s6nd0ss3h022myjjhb6w0000gn/T/ipykernel_56185/3388319966.py:4: FutureWarning: YF.download() has changed argument auto_adjust default to True\n",
      "  stock_data = yf.download(ticker,start=start_date, end=end_date)\n",
      "[*********************100%***********************]  1 of 1 completed\n",
      "/var/folders/1r/jlk6s6nd0ss3h022myjjhb6w0000gn/T/ipykernel_56185/3388319966.py:4: FutureWarning: YF.download() has changed argument auto_adjust default to True\n",
      "  stock_data = yf.download(ticker,start=start_date, end=end_date)\n",
      "[*********************100%***********************]  1 of 1 completed\n",
      "/var/folders/1r/jlk6s6nd0ss3h022myjjhb6w0000gn/T/ipykernel_56185/3388319966.py:4: FutureWarning: YF.download() has changed argument auto_adjust default to True\n",
      "  stock_data = yf.download(ticker,start=start_date, end=end_date)\n",
      "[*********************100%***********************]  1 of 1 completed\n",
      "/var/folders/1r/jlk6s6nd0ss3h022myjjhb6w0000gn/T/ipykernel_56185/3388319966.py:4: FutureWarning: YF.download() has changed argument auto_adjust default to True\n",
      "  stock_data = yf.download(ticker,start=start_date, end=end_date)\n",
      "[*********************100%***********************]  1 of 1 completed"
     ]
    },
    {
     "name": "stdout",
     "output_type": "stream",
     "text": [
      "                  URA         VOO         QQQ         BMO         RSP  \\\n",
      "Date                                                                    \n",
      "2018-06-18  11.208097  227.245056  168.735474   60.032001   91.920700   \n",
      "2018-06-19  10.968924  226.381424  168.257492   59.660194   91.548416   \n",
      "2018-06-20  11.001915  226.790970  169.452515   59.745392   91.805489   \n",
      "2018-06-21  10.820473  225.375290  167.980240   59.877060   91.273628   \n",
      "2018-06-22  10.886452  225.775955  167.607452   60.233395   91.512955   \n",
      "...               ...         ...         ...         ...         ...   \n",
      "2025-06-09  35.180000  551.250000  530.700012  108.050003  178.720001   \n",
      "2025-06-10  34.049999  554.390015  534.210022  107.849998  179.610001   \n",
      "2025-06-11  35.869999  552.859985  532.409973  107.739998  179.100006   \n",
      "2025-06-12  36.009998  554.950012  533.659973  108.370003  179.520004   \n",
      "2025-06-13  36.130001  548.770020  526.960022  106.949997  177.350006   \n",
      "\n",
      "                   NLR  \n",
      "Date                    \n",
      "2018-06-18   41.807800  \n",
      "2018-06-19   41.849682  \n",
      "2018-06-20   41.874813  \n",
      "2018-06-21   41.749165  \n",
      "2018-06-22   42.302025  \n",
      "...                ...  \n",
      "2025-06-09  101.949997  \n",
      "2025-06-10   99.339996  \n",
      "2025-06-11  105.150002  \n",
      "2025-06-12  105.279999  \n",
      "2025-06-13  105.029999  \n",
      "\n",
      "[1758 rows x 6 columns]\n"
     ]
    },
    {
     "name": "stderr",
     "output_type": "stream",
     "text": [
      "\n"
     ]
    }
   ],
   "source": [
    "\n",
    "tickers = yf.Tickers(\"URA VOO QQQ BMO RSP NLR\")\n",
    "for ticker in tickers.tickers:\n",
    "    stock_data = yf.download(ticker,start=start_date, end=end_date)\n",
    "    adj_close_df[ticker] = stock_data['Close']\n",
    "print(adj_close_df)"
   ]
  },
  {
   "cell_type": "markdown",
   "metadata": {},
   "source": [
    "Calculate LogNormal Returns for each ticker\n",
    "Calculate Daily returns \n",
    "LognORMAL RETURNS ARE ADDITIVE"
   ]
  },
  {
   "cell_type": "markdown",
   "metadata": {},
   "source": [
    "takes one days price and shifts and diveds by the previous day price "
   ]
  },
  {
   "cell_type": "code",
   "execution_count": 72,
   "metadata": {},
   "outputs": [],
   "source": [
    "log_returns = np.log(adj_close_df / adj_close_df.shift(1))"
   ]
  },
  {
   "cell_type": "markdown",
   "metadata": {},
   "source": [
    "Drops any NA values so any future calcs dont get messed up "
   ]
  },
  {
   "cell_type": "code",
   "execution_count": 73,
   "metadata": {},
   "outputs": [],
   "source": [
    "log_returns = log_returns.dropna()"
   ]
  },
  {
   "cell_type": "code",
   "execution_count": 74,
   "metadata": {},
   "outputs": [
    {
     "name": "stdout",
     "output_type": "stream",
     "text": [
      "                 URA       VOO       QQQ       BMO       RSP       NLR\n",
      "Date                                                                  \n",
      "2018-06-19 -0.021570 -0.003808 -0.002837 -0.006213 -0.004058  0.001001\n",
      "2018-06-20  0.003003  0.001807  0.007077  0.001427  0.002804  0.000600\n",
      "2018-06-21 -0.016629 -0.006262 -0.008726  0.002201 -0.005810 -0.003005\n",
      "2018-06-22  0.006079  0.001776 -0.002222  0.005933  0.002619  0.013156\n",
      "2018-06-25 -0.025318 -0.013939 -0.022788 -0.013726 -0.011006  0.001187\n",
      "...              ...       ...       ...       ...       ...       ...\n",
      "2025-06-09  0.044762  0.001071  0.001471 -0.002219  0.000168  0.022718\n",
      "2025-06-10 -0.032648  0.005680  0.006592 -0.001853  0.004967 -0.025934\n",
      "2025-06-11  0.052071 -0.002764 -0.003375 -0.001020 -0.002843  0.056840\n",
      "2025-06-12  0.003895  0.003773  0.002345  0.005830  0.002342  0.001236\n",
      "2025-06-13  0.003327 -0.011199 -0.012634 -0.013190 -0.012161 -0.002377\n",
      "\n",
      "[1757 rows x 6 columns]\n"
     ]
    }
   ],
   "source": [
    "print(log_returns)"
   ]
  },
  {
   "cell_type": "markdown",
   "metadata": {},
   "source": []
  },
  {
   "cell_type": "markdown",
   "metadata": {},
   "source": [
    "Calculate Covariance Matrix using Log Returns"
   ]
  },
  {
   "cell_type": "markdown",
   "metadata": {},
   "source": [
    "we do times 252 to annualize this value and find the covariance and corelation between each of the securities in the portfolio"
   ]
  },
  {
   "cell_type": "code",
   "execution_count": 75,
   "metadata": {},
   "outputs": [
    {
     "name": "stdout",
     "output_type": "stream",
     "text": [
      "          URA       VOO       QQQ       BMO       RSP       NLR\n",
      "URA  0.139566  0.041939  0.048790  0.045505  0.041700  0.065716\n",
      "VOO  0.041939  0.041143  0.047166  0.038040  0.039798  0.031324\n",
      "QQQ  0.048790  0.047166  0.061828  0.036440  0.041298  0.033436\n",
      "BMO  0.045505  0.038040  0.036440  0.071020  0.042471  0.032390\n",
      "RSP  0.041700  0.039798  0.041298  0.042471  0.042993  0.031814\n",
      "NLR  0.065716  0.031324  0.033436  0.032390  0.031814  0.054160\n"
     ]
    }
   ],
   "source": [
    "cov_matrix = log_returns.cov()*252\n",
    "print(cov_matrix)"
   ]
  },
  {
   "cell_type": "markdown",
   "metadata": {},
   "source": [
    "Calculate Portfolio Performance Metrics"
   ]
  },
  {
   "cell_type": "markdown",
   "metadata": {},
   "source": [
    "calculate risk - calculates the variance, a Measure of risk associated with a porftolio of assets. It combines the volatility of assets in the portfolio "
   ]
  },
  {
   "cell_type": "markdown",
   "metadata": {},
   "source": [
    "STANDARD DEVIATION FIRST"
   ]
  },
  {
   "cell_type": "markdown",
   "metadata": {},
   "source": [
    ". T transposes - an array that is 1 row high and 5 columns wide transpose it so that it is 5 columns high and 1 row wide \n",
    "\n",
    "the @ symbl means we are mulitplying two arrays together\n",
    "\n",
    "we return the sq rt of variance because standard deviation is truly the square root of variance"
   ]
  },
  {
   "cell_type": "code",
   "execution_count": 76,
   "metadata": {},
   "outputs": [],
   "source": [
    "def standard_deviation(weights, cov_matrix): ##inputs \n",
    "    variance = weights.T @ cov_matrix @ weights  ##what does the @ symbol do?\n",
    "    return np.sqrt(variance)"
   ]
  },
  {
   "cell_type": "markdown",
   "metadata": {},
   "source": [
    "calculate the expected return"
   ]
  },
  {
   "cell_type": "markdown",
   "metadata": {},
   "source": [
    "Key assumption is expected returns are based on historical returns"
   ]
  },
  {
   "cell_type": "code",
   "execution_count": 77,
   "metadata": {},
   "outputs": [],
   "source": [
    "def portfolio_return(weights, log_returns):\n",
    "    return np.sum(log_returns.mean() * weights) * 252"
   ]
  },
  {
   "cell_type": "markdown",
   "metadata": {},
   "source": [
    "Calculate Sharpe Ratio \n",
    "=\n",
    "(Expected Return - risk free rate)/ Standard deviation "
   ]
  },
  {
   "cell_type": "code",
   "execution_count": 78,
   "metadata": {},
   "outputs": [],
   "source": [
    "def sharpe_ratio(weights, log_returns, cov_matrix, risk_free_rate):\n",
    "    return(portfolio_return(weights, log_returns) - risk_free_rate) / standard_deviation(weights, cov_matrix) #risk premium divided by standard deviation"
   ]
  },
  {
   "cell_type": "markdown",
   "metadata": {},
   "source": [
    "Get the risk free rate "
   ]
  },
  {
   "cell_type": "markdown",
   "metadata": {},
   "source": [
    "Fed reserve api pull"
   ]
  },
  {
   "cell_type": "markdown",
   "metadata": {},
   "source": []
  },
  {
   "cell_type": "code",
   "execution_count": 79,
   "metadata": {},
   "outputs": [
    {
     "name": "stdout",
     "output_type": "stream",
     "text": [
      "0.044199999999999996\n"
     ]
    }
   ],
   "source": [
    "from fredapi import Fred\n",
    "\n",
    "#replace with my api key and connect to fed\n",
    "fred = Fred(api_key='051d5809ddca97caac87dd597a0ddc35')\n",
    "ten_year_treasury = fred.get_series('GS10')/100##divide by 100 to get percentage\n",
    "\n",
    "#set the risk free rate\n",
    "risk_free_rate = ten_year_treasury.iloc[-1]\n",
    "print(risk_free_rate)"
   ]
  },
  {
   "cell_type": "markdown",
   "metadata": {},
   "source": [
    "define the function to minimize negative sharpe ratio "
   ]
  },
  {
   "cell_type": "code",
   "execution_count": 80,
   "metadata": {},
   "outputs": [],
   "source": [
    "def neg_sharpe_ratio(weights, log_returns, cov_matrix, risk_free_rate):\n",
    "    return -sharpe_ratio(weights, log_returns, cov_matrix, risk_free_rate)"
   ]
  },
  {
   "cell_type": "markdown",
   "metadata": {},
   "source": [
    "set the constraints and bonds "
   ]
  },
  {
   "cell_type": "markdown",
   "metadata": {},
   "source": [
    "constraints make sure that the portfolio is the sum of the wieghts in the portfolio = 1\n",
    "the bound is 0 lower and 5 upper \n",
    "0 means we cant go short or sell any assets - meaning we can only go long or purchase\n",
    "5 means that we cant have more than 50% of our portfiolo in one single portfolio - this is for short time periods dont get tricked"
   ]
  },
  {
   "cell_type": "code",
   "execution_count": 81,
   "metadata": {},
   "outputs": [],
   "source": [
    "consrtaints = ({'type':'eq', 'fun': lambda x: np.sum(x) - 1})\n",
    "bounds =[(0,1) for i in range(len(tickers.tickers))]  #set bounds for each weight"
   ]
  },
  {
   "cell_type": "markdown",
   "metadata": {},
   "source": [
    "set the initial weights "
   ]
  },
  {
   "cell_type": "markdown",
   "metadata": {},
   "source": [
    "dynamic function to set qual initial weights for all securities in portfolio "
   ]
  },
  {
   "cell_type": "code",
   "execution_count": 82,
   "metadata": {},
   "outputs": [
    {
     "name": "stdout",
     "output_type": "stream",
     "text": [
      "[0.16666667 0.16666667 0.16666667 0.16666667 0.16666667 0.16666667]\n"
     ]
    }
   ],
   "source": [
    "initial_weights = np.array([1/len(tickers.tickers)] * len(tickers.tickers))\n",
    "print(initial_weights)"
   ]
  },
  {
   "cell_type": "markdown",
   "metadata": {},
   "source": [
    "optimize the weights to maxmize sharpe ratio "
   ]
  },
  {
   "cell_type": "markdown",
   "metadata": {},
   "source": [
    "SLQP stands for least square quadratic programming, a Numerical Optimaization technique for suitable for solving non linear optimzation problems with constarints"
   ]
  },
  {
   "cell_type": "code",
   "execution_count": 83,
   "metadata": {},
   "outputs": [],
   "source": [
    "optimized_results = minimize(neg_sharpe_ratio, initial_weights, args=(log_returns, cov_matrix, risk_free_rate), method='SLSQP', constraints=consrtaints, bounds=bounds)"
   ]
  },
  {
   "cell_type": "markdown",
   "metadata": {},
   "source": [
    "get optimal weights "
   ]
  },
  {
   "cell_type": "markdown",
   "metadata": {},
   "source": [
    ".x is a way for us to acces those results "
   ]
  },
  {
   "cell_type": "code",
   "execution_count": 84,
   "metadata": {},
   "outputs": [],
   "source": [
    "optimal_weights = optimized_results.x"
   ]
  },
  {
   "cell_type": "markdown",
   "metadata": {},
   "source": [
    "Analyze the optimal Portfolio \n",
    "display analytics of porfolio "
   ]
  },
  {
   "cell_type": "code",
   "execution_count": 85,
   "metadata": {},
   "outputs": [
    {
     "name": "stdout",
     "output_type": "stream",
     "text": [
      "Optimal_weights\n",
      "URA: 3.1520%\n",
      "VOO: 0.0000%\n",
      "QQQ: 70.8937%\n",
      "BMO: 0.0000%\n",
      "RSP: 0.0000%\n",
      "NLR: 25.9543%\n",
      "\n",
      "Expected annual return: 0.1554\n",
      "Expected annual volatility: 0.2245\n",
      "Sharpe ratio: 0.4951\n"
     ]
    }
   ],
   "source": [
    "print(\"Optimal_weights\")\n",
    "for ticker, weight in zip(tickers.tickers, optimal_weights):\n",
    "    print(f'{ticker}: {weight*100:.4f}%')\n",
    "\n",
    "print()\n",
    "optimal_portfolio_return = portfolio_return(optimal_weights, log_returns)\n",
    "optimal_portfolio_volatility = standard_deviation(optimal_weights, cov_matrix)\n",
    "optimal_sharpe_ratio = sharpe_ratio(optimal_weights, log_returns, cov_matrix, risk_free_rate)\n",
    "\n",
    "print(f'Expected annual return: {optimal_portfolio_return:.4f}')\n",
    "print(f'Expected annual volatility: {optimal_portfolio_volatility:.4f}')\n",
    "print(f'Sharpe ratio: {optimal_sharpe_ratio:.4f}')"
   ]
  },
  {
   "cell_type": "markdown",
   "metadata": {},
   "source": [
    "Display in a graph "
   ]
  },
  {
   "cell_type": "code",
   "execution_count": 86,
   "metadata": {},
   "outputs": [],
   "source": [
    "def simulate_random_portfolios(num_portfolios, log_returns, cov_matrix, risk_free_rate):\n",
    "    results = np.zeros((3, num_portfolios))\n",
    "    weights_record = []\n",
    "    for i in range(num_portfolios):\n",
    "        weights = np.random.random(len(tickers))\n",
    "        weights /= np.sum(weights)\n",
    "        weights_record.append(weights)\n",
    "        portfolio_return_value = portfolio_return(weights, log_returns)\n",
    "        portfolio_volatility = standard_deviation(weights, cov_matrix)\n",
    "        sharpe_ratio_value = (portfolio_return_value - risk_free_rate) / portfolio_volatility\n",
    "        results[0,i] = portfolio_return_value\n",
    "        results[1,i] = portfolio_volatility\n",
    "        results[2,i] = sharpe_ratio_value\n",
    "    return results, weights_record  "
   ]
  },
  {
   "cell_type": "code",
   "execution_count": 87,
   "metadata": {},
   "outputs": [
    {
     "data": {
      "image/png": "[encoded data removed]",
      "text/plain": [
       "<Figure size 1000x600 with 1 Axes>"
      ]
     },
     "metadata": {},
     "output_type": "display_data"
    }
   ],
   "source": [
    "import matplotlib.pyplot as plt\n",
    "tickers = [\"URA\", \"VOO\", \"QQQ\", \"BMO\", \"RSP\", \"NLR\"]  # Define tickers as a list of strings\n",
    "plt.figure(figsize=(10,6))\n",
    "plt.bar(tickers, optimal_weights)\n",
    "\n",
    "\n",
    "plt.xlabel('Assets')\n",
    "plt.ylabel('Optimal Weights')\n",
    "plt.title('Optimal Portfolio Weights')\n",
    "\n",
    "\n",
    "plt.show()"
   ]
  }
 ],
 "metadata": {
  "kernelspec": {
   "display_name": "base",
   "language": "python",
   "name": "python3"
  },
  "language_info": {
   "codemirror_mode": {
    "name": "ipython",
    "version": 3
   },
   "file_extension": ".py",
   "mimetype": "text/x-python",
   "name": "python",
   "nbconvert_exporter": "python",
   "pygments_lexer": "ipython3",
   "version": "3.10.9"
  }
 },
 "nbformat": 4,
 "nbformat_minor": 2
}

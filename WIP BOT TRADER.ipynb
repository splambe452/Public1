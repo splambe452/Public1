{
 "cells": [
  {
   "cell_type": "code",
   "execution_count": 1,
   "metadata": {},
   "outputs": [],
   "source": [
    "import ibapi\n",
    "import ib_insync\n",
    "import nest_asyncio\n",
    "from ibapi.client import EClient\n",
    "from ibapi.wrapper import EWrapper\n",
    "from ibapi.contract import Contract \n",
    "from ibapi.order import *\n",
    "import time\n",
    "import threading\n",
    "from datetime import datetime\n",
    "nest_asyncio.apply()\n",
    "from ib_insync import Stock \n",
    "from ib_insync import MarketOrder\n",
    "from datetime import datetime"
   ]
  },
  {
   "cell_type": "code",
   "execution_count": 2,
   "metadata": {},
   "outputs": [
    {
     "name": "stdout",
     "output_type": "stream",
     "text": [
      "Error. Id: -1, Code: 2104, Msg: Market data farm connection is OK:cafarm\n",
      "Error. Id: -1, Code: 2104, Msg: Market data farm connection is OK:hfarm\n",
      "Error. Id: -1, Code: 2104, Msg: Market data farm connection is OK:eufarmnj\n",
      "Error. Id: -1, Code: 2104, Msg: Market data farm connection is OK:cashfarm\n",
      "Error. Id: -1, Code: 2104, Msg: Market data farm connection is OK:usfuture\n",
      "Error. Id: -1, Code: 2104, Msg: Market data farm connection is OK:afarm\n",
      "Error. Id: -1, Code: 2104, Msg: Market data farm connection is OK:jfarm\n",
      "Error. Id: -1, Code: 2104, Msg: Market data farm connection is OK:usfarm.nj\n",
      "Error. Id: -1, Code: 2104, Msg: Market data farm connection is OK:usfarm\n",
      "Error. Id: -1, Code: 2106, Msg: HMDS data farm connection is OK:euhmds\n",
      "Error. Id: -1, Code: 2106, Msg: HMDS data farm connection is OK:fundfarm\n",
      "Error. Id: -1, Code: 2106, Msg: HMDS data farm connection is OK:ushmds\n",
      "Error. Id: -1, Code: 2158, Msg: Sec-def data farm connection is OK:secdefil\n",
      "Connected to IB\n"
     ]
    }
   ],
   "source": [
    "ib = ib_insync.IB()\n",
    "def onError(reqId, errorCode, errorString, advancedOrderRejectInfo=None):\n",
    "    print(f\"Error. Id: {reqId}, Code: {errorCode}, Msg: {errorString}\")\n",
    "def onOrderStatus(order):\n",
    "    print(f\"Order Status. order {order.orderId}, is {order.status}\")\n",
    "\n",
    "ib.errorEvent += onError\n",
    "ib.orderStatusEvent += onOrderStatus\n",
    "try:\n",
    "    ib.connect(\"127.0.0.1\", 7497,1)\n",
    "    print(\"Connected to IB\")\n",
    "except Exception as e:\n",
    "    print(f\"Error connecting to IB: {e}\")"
   ]
  },
  {
   "cell_type": "code",
   "execution_count": 3,
   "metadata": {},
   "outputs": [
    {
     "name": "stdout",
     "output_type": "stream",
     "text": [
      "Server time: 2025-07-05 19:47:22+00:00\n"
     ]
    }
   ],
   "source": [
    "try:\n",
    "    server_time = ib.reqCurrentTime()\n",
    "    print(\"Server time:\", server_time)\n",
    "except Exception as e:\n",
    "    print(f\"Error requesting server time: {e}\")"
   ]
  },
  {
   "cell_type": "code",
   "execution_count": 7,
   "metadata": {},
   "outputs": [
    {
     "name": "stdout",
     "output_type": "stream",
     "text": [
      "Local Time: 2025-07-05 14:48:21.870017\n"
     ]
    }
   ],
   "source": [
    "local_time = datetime.now()\n",
    "print(\"Local Time:\", local_time)"
   ]
  },
  {
   "cell_type": "code",
   "execution_count": null,
   "metadata": {},
   "outputs": [],
   "source": [
    "spy_contract = Stock('SPY', 'SMART', 'USD')\n",
    "\n",
    "spy_market_order = MarketOrder('BUY', 1)\n",
    "\n",
    "print(\"[INFO] Placeing the market order...\")\n",
    "trade = ib.placeOrder(spy_contract, spy_market_order)\n",
    "\n",
    "print(\"[INFO] Order placed. Waiting for order status...\")\n",
    "while not trade.isDone():\n",
    "    ib.waitOnUpdate()\n",
    "order_status = trade.orderStatus.status\n",
    "print(f\"[INFO] Order Status: {order_status}\")\n",
    "open_orders = ib.openOrders()\n",
    "if trade.order in open_orders:\n",
    "    print(\"[Check] Order is still open.\")\n",
    "else:\n",
    "    print(\"[Check] Order is not open anymore.(Likely filled or cancelled)\")\n",
    "\n",
    "portfolio = ib.portfolio()\n",
    "spy_position = next((p for p in portfolio if p.contract.symbol == 'SPY'), None)\n",
    "if spy_position:\n",
    "    print(f\"[Success] SPY Position: {spy_position.position} shares at average cost {spy_position.averageCost}\")\n",
    "else:\n",
    "    print(\"[Check] No SPY position found in portfolio.\")"
   ]
  },
  {
   "cell_type": "code",
   "execution_count": null,
   "metadata": {},
   "outputs": [],
   "source": []
  },
  {
   "cell_type": "code",
   "execution_count": null,
   "metadata": {},
   "outputs": [],
   "source": []
  },
  {
   "cell_type": "code",
   "execution_count": null,
   "metadata": {},
   "outputs": [],
   "source": []
  }
 ],
 "metadata": {
  "kernelspec": {
   "display_name": "base",
   "language": "python",
   "name": "python3"
  },
  "language_info": {
   "codemirror_mode": {
    "name": "ipython",
    "version": 3
   },
   "file_extension": ".py",
   "mimetype": "text/x-python",
   "name": "python",
   "nbconvert_exporter": "python",
   "pygments_lexer": "ipython3",
   "version": "3.10.9"
  }
 },
 "nbformat": 4,
 "nbformat_minor": 2
}
